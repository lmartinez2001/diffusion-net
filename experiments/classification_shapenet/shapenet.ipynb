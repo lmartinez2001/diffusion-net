{
 "cells": [
  {
   "cell_type": "markdown",
   "id": "9cf4f564-d129-4893-8ecd-8da3a20125a1",
   "metadata": {},
   "source": [
    "# ShapeNet dataset\n",
    "\n",
    "We explore a subset of the [Shapenet-core](https://www.kaggle.com/datasets/jeremy26/shapenet-core) dataset and run some experiments. This version of the dataset only contains point clouds, so among other things, we try some remeshing procedure. However, even after applying some smoothing techniques, the qualiy of the results is pretty poor.  \n",
    "In theory this shouldnn't be an issue as the paper claims to be representation agnoctic. But the poor generalization results we obtained would suggest that the model might not be that robust. *however this is just an hypothesis and further experiments must be run to validate it or not*."
   ]
  },
  {
   "cell_type": "code",
   "execution_count": 1,
   "id": "5d7a5f0e-6ef1-49bc-969d-c238ffea6377",
   "metadata": {},
   "outputs": [],
   "source": [
    "import os\n",
    "import json\n",
    "from collections import defaultdict\n",
    "\n",
    "import numpy as np\n",
    "import matplotlib.pyplot as plt\n",
    "\n",
    "import meshplot as m\n",
    "import potpourri3d as pp\n",
    "import pymeshlab\n",
    "\n",
    "import kagglehub"
   ]
  },
  {
   "cell_type": "markdown",
   "id": "bd2f216f-adbc-4375-bb8d-c468b14e53d2",
   "metadata": {
    "tags": []
   },
   "source": [
    "### Loading the data"
   ]
  },
  {
   "cell_type": "code",
   "execution_count": 2,
   "id": "864826b0-9cba-4494-ba1b-1e1d789efbea",
   "metadata": {},
   "outputs": [
    {
     "name": "stdout",
     "output_type": "stream",
     "text": [
      "Warning: Looks like you're using an outdated `kagglehub` version, please consider updating (latest version: 0.3.5)\n",
      "Path to dataset files: /home/infres/lmartinez-21/.cache/kagglehub/datasets/jeremy26/shapenet-core/versions/1\n"
     ]
    },
    {
     "data": {
      "text/plain": [
       "{'Airplane': '02691156',\n",
       " 'Bag': '02773838',\n",
       " 'Cap': '02954340',\n",
       " 'Car': '02958343',\n",
       " 'Chair': '03001627',\n",
       " 'Earphone': '03261776',\n",
       " 'Guitar': '03467517',\n",
       " 'Knife': '03624134',\n",
       " 'Lamp': '03636649',\n",
       " 'Laptop': '03642806',\n",
       " 'Motorbike': '03790512',\n",
       " 'Mug': '03797390',\n",
       " 'Pistol': '03948459',\n",
       " 'Rocket': '04099429',\n",
       " 'Skateboard': '04225987',\n",
       " 'Table': '04379243'}"
      ]
     },
     "execution_count": 2,
     "metadata": {},
     "output_type": "execute_result"
    }
   ],
   "source": [
    "root = kagglehub.dataset_download(\"jeremy26/shapenet-core\")\n",
    "dataset_name = 'Shapenetcore_benchmark'\n",
    "print(\"Path to dataset files:\", root)\n",
    "\n",
    "def cat2idx(file_path):\n",
    "    categories = {}\n",
    "    with open(file_path, 'r') as file:\n",
    "        for line in file:\n",
    "            key, value = line.strip().split(maxsplit=1)\n",
    "            categories[key] = value\n",
    "    return categories\n",
    "\n",
    "cat = cat2idx(os.path.join(root, dataset_name, 'synsetoffset2category.txt'))\n",
    "cat"
   ]
  },
  {
   "cell_type": "markdown",
   "id": "b5563f63-00eb-4bbf-baa5-73c9db2de018",
   "metadata": {},
   "source": [
    "### Visualizing a sample\n",
    "\n",
    "We define a small utility function to convert the point cloud to a .obj file for the remeshing experiments below."
   ]
  },
  {
   "cell_type": "code",
   "execution_count": 3,
   "id": "f35e0ecf-0b93-49cb-9f03-e728ee9b362f",
   "metadata": {},
   "outputs": [
    {
     "data": {
      "application/vnd.jupyter.widget-view+json": {
       "model_id": "184348eb885140e7a03a2f6ce3a9e613",
       "version_major": 2,
       "version_minor": 0
      },
      "text/plain": [
       "Renderer(camera=PerspectiveCamera(children=(DirectionalLight(color='white', intensity=0.6, position=(0.0015799…"
      ]
     },
     "metadata": {},
     "output_type": "display_data"
    }
   ],
   "source": [
    "sample_class = 'Chair'\n",
    "samples_path = os.path.join(root, dataset_name, cat[sample_class], 'points')\n",
    "sample_path = os.listdir(samples_path)[0]\n",
    "sample = np.load(os.path.join(samples_path, sample_path))\n",
    "\n",
    "shading = {'point_size':0.1, 'cmap':'jet'}\n",
    "m.plot(sample, c=0.1*np.random.randn(len(sample)), shading=shading)\n",
    "\n",
    "def to_obj(to_save):\n",
    "    pp.write_point_cloud(sample, f'{sample_class}.obj')\n",
    "\n",
    "to_obj(sample)"
   ]
  },
  {
   "cell_type": "markdown",
   "id": "2fbad2ea-2a97-4459-9cf7-6c180c9abc06",
   "metadata": {},
   "source": [
    "### Remeshing"
   ]
  },
  {
   "cell_type": "code",
   "execution_count": 4,
   "id": "6cd734fe-cfd1-4294-a2d3-7a1a410b5d18",
   "metadata": {},
   "outputs": [
    {
     "name": "stdout",
     "output_type": "stream",
     "text": [
      "2748 vertices\n",
      "4911 faces\n"
     ]
    },
    {
     "data": {
      "application/vnd.jupyter.widget-view+json": {
       "model_id": "965a716fac294d5c9be8dced55ffefd7",
       "version_major": 2,
       "version_minor": 0
      },
      "text/plain": [
       "Renderer(camera=PerspectiveCamera(children=(DirectionalLight(color='white', intensity=0.6, position=(0.0015799…"
      ]
     },
     "metadata": {},
     "output_type": "display_data"
    },
    {
     "data": {
      "text/plain": [
       "<meshplot.Viewer.Viewer at 0x773150540550>"
      ]
     },
     "execution_count": 4,
     "metadata": {},
     "output_type": "execute_result"
    }
   ],
   "source": [
    "ms = pymeshlab.MeshSet()\n",
    "mesh = pymeshlab.Mesh(vertex_matrix=sample)\n",
    "ms.add_mesh(mesh, 'point_cloud')\n",
    "ms.generate_surface_reconstruction_ball_pivoting()\n",
    "reconstructed_mesh = ms.current_mesh()\n",
    "vertices = reconstructed_mesh.vertex_matrix()  # Nx3 array of vertices\n",
    "faces = reconstructed_mesh.face_matrix()       # Mx3 array of vertex indices forming the faces\n",
    "\n",
    "print(vertices.shape[0], 'vertices')\n",
    "print(faces.shape[0], 'faces', )\n",
    "m.plot(vertices, faces)"
   ]
  },
  {
   "cell_type": "markdown",
   "id": "96e24211-f48c-438d-b8fc-137ebcf838ff",
   "metadata": {},
   "source": [
    "#### Smoothing\n",
    "\n",
    "The remeshing results poor. The topology of the original object it not preserved. We thus try some remeshing/smoothing procedures to recover the original topology."
   ]
  },
  {
   "cell_type": "code",
   "execution_count": 5,
   "id": "f2064691-dd71-449b-af2c-271049c625aa",
   "metadata": {},
   "outputs": [
    {
     "data": {
      "application/vnd.jupyter.widget-view+json": {
       "model_id": "8333cb9d83b64f3eabba24e8f0cd724b",
       "version_major": 2,
       "version_minor": 0
      },
      "text/plain": [
       "Renderer(camera=PerspectiveCamera(children=(DirectionalLight(color='white', intensity=0.6, position=(0.0050093…"
      ]
     },
     "metadata": {},
     "output_type": "display_data"
    },
    {
     "data": {
      "text/plain": [
       "<meshplot.Viewer.Viewer at 0x7730eb0dd2b0>"
      ]
     },
     "execution_count": 5,
     "metadata": {},
     "output_type": "execute_result"
    }
   ],
   "source": [
    "def resample_mesh(verts, faces, iterations=10):\n",
    "    ms = pymeshlab.MeshSet()\n",
    "    ms.add_mesh(pymeshlab.Mesh(vertex_matrix=verts, face_matrix=faces))\n",
    "\n",
    "    ms.apply_coord_laplacian_smoothing(stepsmoothnum=iterations)\n",
    "    smoothed_mesh = ms.current_mesh()\n",
    "    smoothed_verts = smoothed_mesh.vertex_matrix()\n",
    "    smoothed_faces = smoothed_mesh.face_matrix()\n",
    "\n",
    "    return smoothed_verts, smoothed_faces\n",
    "\n",
    "smoothed_verts, smoothed_faces = resample_mesh(vertices, faces, iterations=10)\n",
    "m.plot(smoothed_verts, smoothed_faces)"
   ]
  },
  {
   "cell_type": "markdown",
   "id": "bf3d6313-d243-4b71-94fc-c92899469c39",
   "metadata": {},
   "source": [
    "### Sanity check of the dataset"
   ]
  },
  {
   "cell_type": "code",
   "execution_count": 6,
   "id": "b983414a-3ea6-4200-92e3-c2386a04a165",
   "metadata": {},
   "outputs": [
    {
     "data": {
      "text/plain": [
       "{'Airplane': 2690,\n",
       " 'Bag': 76,\n",
       " 'Cap': 55,\n",
       " 'Car': 1824,\n",
       " 'Chair': 3746,\n",
       " 'Earphone': 69,\n",
       " 'Guitar': 787,\n",
       " 'Knife': 392,\n",
       " 'Lamp': 1546,\n",
       " 'Laptop': 445,\n",
       " 'Motorbike': 202,\n",
       " 'Mug': 184,\n",
       " 'Pistol': 275,\n",
       " 'Rocket': 66,\n",
       " 'Skateboard': 152,\n",
       " 'Table': 5266}"
      ]
     },
     "execution_count": 6,
     "metadata": {},
     "output_type": "execute_result"
    }
   ],
   "source": [
    "# well balanced?\n",
    "all_class_paths = [os.path.join(root, dataset_name, cat[key], 'points') for key in cat.keys()]\n",
    "\n",
    "class_counts = {}\n",
    "\n",
    "for path, cls_name in zip(all_class_paths, cat.keys()):\n",
    "    class_counts[cls_name] = len(os.listdir(path))\n",
    "    \n",
    "class_counts"
   ]
  },
  {
   "cell_type": "code",
   "execution_count": 7,
   "id": "bad6233b-15f9-4ab3-b2a6-269fea0a1e62",
   "metadata": {},
   "outputs": [
    {
     "name": "stdout",
     "output_type": "stream",
     "text": [
      "12137 2874 1870\n"
     ]
    }
   ],
   "source": [
    "def read_split(path):\n",
    "    with open(path, 'r') as f:\n",
    "        split = json.load(f)\n",
    "    return split\n",
    "\n",
    "# split distribution\n",
    "train_path = os.path.join(root, dataset_name, 'train_split.json')\n",
    "test_path = os.path.join(root, dataset_name, 'test_split.json')\n",
    "val_path = os.path.join(root, dataset_name, 'val_split.json')\n",
    "\n",
    "train_split = read_split(train_path)\n",
    "test_split = read_split(test_path)\n",
    "val_split = read_split(val_path)\n",
    "\n",
    "print(len(train_split), len(test_split), len(val_split))"
   ]
  },
  {
   "cell_type": "code",
   "execution_count": 8,
   "id": "456c9463-26a3-4a7e-a197-4f6412cb6484",
   "metadata": {},
   "outputs": [
    {
     "data": {
      "image/png": "[encoded data removed]",
      "text/plain": [
       "<Figure size 500x300 with 1 Axes>"
      ]
     },
     "metadata": {},
     "output_type": "display_data"
    },
    {
     "data": {
      "image/png": "[encoded data removed]",
      "text/plain": [
       "<Figure size 500x300 with 1 Axes>"
      ]
     },
     "metadata": {},
     "output_type": "display_data"
    },
    {
     "data": {
      "image/png": "[encoded data removed]",
      "text/plain": [
       "<Figure size 500x300 with 1 Axes>"
      ]
     },
     "metadata": {},
     "output_type": "display_data"
    }
   ],
   "source": [
    "def plot_split_hist(split_distrib, split):\n",
    "    classes = list(train_distrib.keys())\n",
    "    counts = list(train_distrib.values())\n",
    "    \n",
    "    plt.figure(figsize=(5, 3))\n",
    "    plt.bar(classes, counts, color='skyblue')\n",
    "    plt.xlabel('Classes', fontsize=10)\n",
    "    plt.ylabel('Counts', fontsize=10)\n",
    "    plt.title(f'{split} split', fontsize=12)\n",
    "    plt.xticks(rotation=90, fontsize=8)\n",
    "    plt.tight_layout()\n",
    "    plt.show()\n",
    "\n",
    "train_distrib = defaultdict(int)\n",
    "test_distrib = defaultdict(int)\n",
    "val_distrib = defaultdict(int)\n",
    "# intra split distribution\n",
    "for sample in train_split:\n",
    "    train_distrib[sample[1]] += 1\n",
    "\n",
    "for sample in test_split:\n",
    "    test_distrib[sample[1]] += 1\n",
    "    \n",
    "for sample in val_split:\n",
    "    val_distrib[sample[1]] += 1\n",
    "    \n",
    "train_distrib, test_distrib, val_distrib\n",
    "\n",
    "plot_split_hist(train_distrib, 'train')\n",
    "plot_split_hist(test_distrib, 'test')\n",
    "plot_split_hist(val_distrib, 'val')"
   ]
  },
  {
   "cell_type": "code",
   "execution_count": 9,
   "id": "86ad1820-c224-428b-a555-c399a1e785c3",
   "metadata": {},
   "outputs": [
    {
     "name": "stdout",
     "output_type": "stream",
     "text": [
      "Saved train augmented at /home/infres/lmartinez-21/.cache/kagglehub/datasets/jeremy26/shapenet-core/versions/1/Shapenetcore_benchmark/train_split_aug.json\n"
     ]
    }
   ],
   "source": [
    "train_split_aug = train_split + test_split\n",
    "output_path = os.path.join(root, dataset_name, 'train_split_aug.json')\n",
    "\n",
    "with open(output_path, 'w') as f:\n",
    "    json.dump(train_split_aug, f)\n",
    "    \n",
    "print(f'Saved train augmented at {output_path}')"
   ]
  }
 ],
 "metadata": {
  "kernelspec": {
   "display_name": "Python 3 (ipykernel)",
   "language": "python",
   "name": "python3"
  },
  "language_info": {
   "codemirror_mode": {
    "name": "ipython",
    "version": 3
   },
   "file_extension": ".py",
   "mimetype": "text/x-python",
   "name": "python",
   "nbconvert_exporter": "python",
   "pygments_lexer": "ipython3",
   "version": "3.8.8"
  }
 },
 "nbformat": 4,
 "nbformat_minor": 5
}
